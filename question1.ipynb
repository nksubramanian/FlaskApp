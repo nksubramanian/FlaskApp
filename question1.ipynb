{
  "nbformat": 4,
  "nbformat_minor": 0,
  "metadata": {
    "colab": {
      "name": "Untitled176.ipynb",
      "provenance": [],
      "authorship_tag": "ABX9TyPqQ74h5XS4ACPA2sayi0G5",
      "include_colab_link": true
    },
    "kernelspec": {
      "name": "python3",
      "display_name": "Python 3"
    },
    "language_info": {
      "name": "python"
    }
  },
  "cells": [
    {
      "cell_type": "markdown",
      "metadata": {
        "id": "view-in-github",
        "colab_type": "text"
      },
      "source": [
        "<a href=\"https://colab.research.google.com/github/nksubramanian/FlaskApp/blob/master/question1.ipynb\" target=\"_parent\"><img src=\"https://colab.research.google.com/assets/colab-badge.svg\" alt=\"Open In Colab\"/></a>"
      ]
    },
    {
      "cell_type": "code",
      "metadata": {
        "colab": {
          "base_uri": "https://localhost:8080/"
        },
        "id": "RDttAosikb7q",
        "outputId": "238fefc3-2ff3-4f8d-b4f0-c508073fff51"
      },
      "source": [
        "string1 = \"ABDEFGABEF\"\n",
        "used_characters=set({})\n",
        "required_string=\"\"\n",
        "for iter in string1:\n",
        "  if iter not in used_characters:\n",
        "    required_string=required_string+iter\n",
        "    used_characters.add(iter)\n",
        "\n",
        "print(required_string)"
      ],
      "execution_count": 10,
      "outputs": [
        {
          "output_type": "stream",
          "text": [
            "ABDEFG\n"
          ],
          "name": "stdout"
        }
      ]
    },
    {
      "cell_type": "code",
      "metadata": {
        "id": "icGwK8Ifkh6k"
      },
      "source": [
        "\n"
      ],
      "execution_count": 9,
      "outputs": []
    },
    {
      "cell_type": "code",
      "metadata": {
        "id": "wmq4akktkthI"
      },
      "source": [
        ""
      ],
      "execution_count": 9,
      "outputs": []
    },
    {
      "cell_type": "code",
      "metadata": {
        "id": "XXCbxX0lk6iX"
      },
      "source": [
        ""
      ],
      "execution_count": 9,
      "outputs": []
    },
    {
      "cell_type": "code",
      "metadata": {
        "id": "OGrBYs9xlK64"
      },
      "source": [
        ""
      ],
      "execution_count": null,
      "outputs": []
    }
  ]
}